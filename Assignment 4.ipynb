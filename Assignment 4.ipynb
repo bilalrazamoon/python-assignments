{
 "cells": [
  {
   "cell_type": "code",
   "execution_count": 29,
   "metadata": {},
   "outputs": [
    {
     "name": "stdout",
     "output_type": "stream",
     "text": [
      "First Name: Bilal\n",
      "Last Name: Raza\n",
      "Age: 25\n",
      "City: Karachi\n"
     ]
    }
   ],
   "source": [
    "person_info = {\n",
    "    'first_name': 'Bilal',\n",
    "    'last_name': 'Raza',\n",
    "    'age': 25,\n",
    "    'city': 'Karachi',\n",
    "}\n",
    "\n",
    "print('First Name: ' + person_info['first_name'])\n",
    "print('Last Name: ' + person_info['last_name'])\n",
    "print('Age: ' + str(person_info['age']))\n",
    "print('City: ' + str(person_info['city']))\n",
    "\n",
    "person_info['qualification'] = 'Intermidiate' # add\n",
    "\n",
    "person_info['qualification'] = 'Master'; # update\n",
    "\n",
    "del person_info['qualification'] # delete"
   ]
  },
  {
   "cell_type": "code",
   "execution_count": 30,
   "metadata": {},
   "outputs": [
    {
     "name": "stdout",
     "output_type": "stream",
     "text": [
      "City: Karachi\n",
      "\tCountry: Pakistan\n",
      "\tPopulation: 14.91 million\n",
      "\tFact: Karachi; is the capital of the Pakistani province of Sindh. It is the most populous city in Pakistan, and fifth-most-populous city proper in the world.\n",
      "City: Madinah\n",
      "\tCountry: Saudi Arabia\n",
      "\tPopulation: 1.1 million\n",
      "\tFact: Medina is a city in western Saudi Arabia. In the city center, the vast Al-Masjid an-Nabawi (Prophet's Mosque) is a major Islamic pilgrimage site\n",
      "City: Dubai\n",
      "\tCountry: United Arab Emirates\n",
      "\tPopulation: 3.137 million\n",
      "\tFact: Dubai is a city and emirate in the United Arab Emirates known for luxury shopping, ultramodern architecture and a lively nightlife scene.\n"
     ]
    }
   ],
   "source": [
    "cities = {\n",
    "    'Karachi': {\n",
    "        'country': 'Pakistan',\n",
    "        'population': 14.91,\n",
    "        'fact': 'Karachi; is the capital of the Pakistani province of Sindh. It is the most populous city in Pakistan, and fifth-most-populous city proper in the world.'\n",
    "    },\n",
    "    'Madinah': {\n",
    "        'country': 'Saudi Arabia',\n",
    "        'population': 1.1,\n",
    "        'fact': 'Medina is a city in western Saudi Arabia. In the city center, the vast Al-Masjid an-Nabawi (Prophet\\'s Mosque) is a major Islamic pilgrimage site'\n",
    "    },\n",
    "    'Dubai': {\n",
    "        'country': 'United Arab Emirates',\n",
    "        'population': 3.137,\n",
    "        'fact': 'Dubai is a city and emirate in the United Arab Emirates known for luxury shopping, ultramodern architecture and a lively nightlife scene.'\n",
    "    }\n",
    "}\n",
    "\n",
    "for city in cities:\n",
    "    print('City: ' + city)\n",
    "    print('\\tCountry: ' + cities[city]['country'])\n",
    "    print('\\tPopulation: ' + str(cities[city]['population'])+ ' million')\n",
    "    print('\\tFact: ' + cities[city]['fact'])"
   ]
  },
  {
   "cell_type": "code",
   "execution_count": 32,
   "metadata": {},
   "outputs": [
    {
     "name": "stdout",
     "output_type": "stream",
     "text": [
      "Age?1\n",
      "free of cost\n",
      "Age?4\n",
      "cost is $10;\n",
      "Age?13\n",
      "cost is $15\n",
      "Age?q\n"
     ]
    }
   ],
   "source": [
    "while True:\n",
    "    age = input(\"Age?\")\n",
    "    if age == 'q':\n",
    "        break\n",
    "    age = int(age);\n",
    "    if age < 3:\n",
    "        print('free of cost');\n",
    "    elif age >= 3 and age <= 12:\n",
    "        print('cost is $10;');\n",
    "    elif age > 12:\n",
    "        print('cost is $15');\n",
    "  "
   ]
  },
  {
   "cell_type": "code",
   "execution_count": 33,
   "metadata": {},
   "outputs": [
    {
     "name": "stdout",
     "output_type": "stream",
     "text": [
      "One of mmy favorite book is Alice in Wonderland\n"
     ]
    }
   ],
   "source": [
    "def favorite_book(title):\n",
    "  print(\"One of mmy favorite book is \" + title);\n",
    "favorite_book(\"Alice in Wonderland\");"
   ]
  },
  {
   "cell_type": "code",
   "execution_count": 34,
   "metadata": {},
   "outputs": [
    {
     "name": "stdout",
     "output_type": "stream",
     "text": [
      "Guess the number?3\n",
      "Your number is smaller\n",
      "Guess the number?10\n",
      "Your number is smaller\n",
      "Guess the number?25\n",
      "Correct\n"
     ]
    }
   ],
   "source": [
    "import random\n",
    "\n",
    "num = random.randrange(1,30);\n",
    "\n",
    "i = 0\n",
    "while i < 3:\n",
    "    inputNum = input('Guess the number?');\n",
    "    inputNum = int(inputNum);\n",
    "    if inputNum == num:\n",
    "        print('Correct')\n",
    "        break;\n",
    "    elif inputNum > num:\n",
    "        print('Your number is greater')\n",
    "    elif inputNum < num:\n",
    "        print('Your number is smaller')\n",
    "    i += 1\n"
   ]
  },
  {
   "cell_type": "code",
   "execution_count": null,
   "metadata": {},
   "outputs": [],
   "source": []
  }
 ],
 "metadata": {
  "kernelspec": {
   "display_name": "Python 3",
   "language": "python",
   "name": "python3"
  },
  "language_info": {
   "codemirror_mode": {
    "name": "ipython",
    "version": 3
   },
   "file_extension": ".py",
   "mimetype": "text/x-python",
   "name": "python",
   "nbconvert_exporter": "python",
   "pygments_lexer": "ipython3",
   "version": "3.7.4"
  }
 },
 "nbformat": 4,
 "nbformat_minor": 2
}
