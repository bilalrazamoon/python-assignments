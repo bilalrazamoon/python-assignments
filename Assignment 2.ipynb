{
 "cells": [
  {
   "cell_type": "code",
   "execution_count": 11,
   "metadata": {},
   "outputs": [
    {
     "name": "stdout",
     "output_type": "stream",
     "text": [
      "Enter marks of English subject:\n",
      "75\n",
      "Enter marks of Math subject:\n",
      "65\n",
      "Enter marks of Science subject:\n",
      "95\n",
      "Enter marks of Physics subject:\n",
      "85\n",
      "Enter marks of Chemistry subject:\n",
      "95\n",
      "Subject - Marks\n",
      "---------------\n",
      "English: 75\n",
      "Math:65\n",
      "Science: 95\n",
      "Physics: 85\n",
      "Chemistry: 95\n",
      "---------------\n",
      "Total:415\n"
     ]
    }
   ],
   "source": [
    "print('Enter marks of English subject:')\n",
    "marks_english = int(input())\n",
    "print('Enter marks of Math subject:')\n",
    "marks_math = int(input())\n",
    "print('Enter marks of Science subject:')\n",
    "marks_science = int(input())\n",
    "print('Enter marks of Physics subject:')\n",
    "marks_physics = int(input())\n",
    "print('Enter marks of Chemistry subject:')\n",
    "marks_chemistry = int(input())\n",
    "\n",
    "print('Subject - Marks')\n",
    "print(\"-\" * 15)\n",
    "print('English: ' + str(marks_english))\n",
    "print('Math:' + str(marks_math))\n",
    "print('Science: ' + str(marks_science))\n",
    "print('Physics: ' + str(marks_physics))\n",
    "print('Chemistry: ' + str(marks_chemistry))\n",
    "print(\"-\" * 15)\n",
    "total = marks_english + marks_math + marks_science + marks_physics + marks_chemistry;\n",
    "print('Total:' + str(total))"
   ]
  },
  {
   "cell_type": "code",
   "execution_count": 12,
   "metadata": {},
   "outputs": [
    {
     "name": "stdout",
     "output_type": "stream",
     "text": [
      "Enter a number:\n",
      "12\n",
      "Your input number is even\n"
     ]
    }
   ],
   "source": [
    "print('Enter a number:')\n",
    "num = int(input())\n",
    "print('Your input number is ' + ('even' if num % 2 == 0 else 'odd'))"
   ]
  },
  {
   "cell_type": "code",
   "execution_count": 15,
   "metadata": {},
   "outputs": [
    {
     "name": "stdout",
     "output_type": "stream",
     "text": [
      "1\n"
     ]
    }
   ],
   "source": [
    "fruit_list = ['Apple']\n",
    "\n",
    "print(len(fruit_list))"
   ]
  },
  {
   "cell_type": "code",
   "execution_count": 16,
   "metadata": {},
   "outputs": [
    {
     "name": "stdout",
     "output_type": "stream",
     "text": [
      "Sum of numbers: 12\n"
     ]
    }
   ],
   "source": [
    "num_list = [2, 4, 6]\n",
    "\n",
    "print('Sum of numbers:', sum(num_list))"
   ]
  },
  {
   "cell_type": "code",
   "execution_count": 17,
   "metadata": {},
   "outputs": [
    {
     "name": "stdout",
     "output_type": "stream",
     "text": [
      "Maximum number is:  6\n"
     ]
    }
   ],
   "source": [
    "num_list = [5, 4, 6]\n",
    "\n",
    "print('Maximum number is: ', max(num_list))"
   ]
  },
  {
   "cell_type": "code",
   "execution_count": 19,
   "metadata": {},
   "outputs": [
    {
     "name": "stdout",
     "output_type": "stream",
     "text": [
      "Less than 5 number:\n",
      "1\n",
      "2\n",
      "3\n"
     ]
    }
   ],
   "source": [
    "num_list = [1, 2, 3, 5, 13, 21, 34]\n",
    "\n",
    "print('Less than 5 number:')\n",
    "for n in num_list:\n",
    "    if n < 5:\n",
    "        print(n)\n"
   ]
  },
  {
   "cell_type": "code",
   "execution_count": null,
   "metadata": {},
   "outputs": [],
   "source": []
  }
 ],
 "metadata": {
  "kernelspec": {
   "display_name": "Python 3",
   "language": "python",
   "name": "python3"
  },
  "language_info": {
   "codemirror_mode": {
    "name": "ipython",
    "version": 3
   },
   "file_extension": ".py",
   "mimetype": "text/x-python",
   "name": "python",
   "nbconvert_exporter": "python",
   "pygments_lexer": "ipython3",
   "version": "3.7.4"
  }
 },
 "nbformat": 4,
 "nbformat_minor": 2
}
